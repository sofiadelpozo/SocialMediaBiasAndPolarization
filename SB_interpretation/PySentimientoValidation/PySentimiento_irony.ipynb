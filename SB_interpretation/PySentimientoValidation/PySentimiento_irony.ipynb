{
 "cells": [
  {
   "cell_type": "code",
   "execution_count": 23,
   "id": "8a03d564",
   "metadata": {},
   "outputs": [],
   "source": [
    "import pandas as pd \n",
    "from pysentimiento import create_analyzer\n",
    "import matplotlib.pyplot as plt \n",
    "import numpy as np "
   ]
  },
  {
   "cell_type": "markdown",
   "id": "53faccb2",
   "metadata": {},
   "source": [
    "### Irony inspection "
   ]
  },
  {
   "cell_type": "code",
   "execution_count": 33,
   "id": "a3a2c238",
   "metadata": {},
   "outputs": [
    {
     "data": {
      "text/html": [
       "<div>\n",
       "<style scoped>\n",
       "    .dataframe tbody tr th:only-of-type {\n",
       "        vertical-align: middle;\n",
       "    }\n",
       "\n",
       "    .dataframe tbody tr th {\n",
       "        vertical-align: top;\n",
       "    }\n",
       "\n",
       "    .dataframe thead th {\n",
       "        text-align: right;\n",
       "    }\n",
       "</style>\n",
       "<table border=\"1\" class=\"dataframe\">\n",
       "  <thead>\n",
       "    <tr style=\"text-align: right;\">\n",
       "      <th></th>\n",
       "      <th>mention</th>\n",
       "      <th>url</th>\n",
       "      <th>RC1</th>\n",
       "      <th>RC2</th>\n",
       "      <th>RC3</th>\n",
       "      <th>Sentiment predicted</th>\n",
       "      <th>Sentiment expected</th>\n",
       "    </tr>\n",
       "  </thead>\n",
       "  <tbody>\n",
       "    <tr>\n",
       "      <th>0</th>\n",
       "      <td>alberto fernandez, ya en diciembre del 17, se...</td>\n",
       "      <td>https://www.perfil.com/noticias/periodismopuro...</td>\n",
       "      <td>0</td>\n",
       "      <td>1</td>\n",
       "      <td>1</td>\n",
       "      <td>1</td>\n",
       "      <td>1</td>\n",
       "    </tr>\n",
       "    <tr>\n",
       "      <th>1</th>\n",
       "      <td>concretamente, con sustento en todas las expl...</td>\n",
       "      <td>https://www.infobae.com/politica/2019/04/01/nu...</td>\n",
       "      <td>0</td>\n",
       "      <td>0</td>\n",
       "      <td>0</td>\n",
       "      <td>0</td>\n",
       "      <td>0</td>\n",
       "    </tr>\n",
       "    <tr>\n",
       "      <th>2</th>\n",
       "      <td>suscribite a el destape  los legisladores pr...</td>\n",
       "      <td>https://www.eldestapeweb.com/nota/elecciones-2...</td>\n",
       "      <td>1</td>\n",
       "      <td>1</td>\n",
       "      <td>1</td>\n",
       "      <td>1</td>\n",
       "      <td>1</td>\n",
       "    </tr>\n",
       "    <tr>\n",
       "      <th>3</th>\n",
       "      <td>de esa forma, amplio la posibilidad de recibi...</td>\n",
       "      <td>https://www.perfil.com/noticias/politica/mauri...</td>\n",
       "      <td>1</td>\n",
       "      <td>-1</td>\n",
       "      <td>-1</td>\n",
       "      <td>0</td>\n",
       "      <td>0</td>\n",
       "    </tr>\n",
       "    <tr>\n",
       "      <th>4</th>\n",
       "      <td>lograron de puno y letra la adhesion de macri</td>\n",
       "      <td>https://www.cronista.com/economia-politica/Mac...</td>\n",
       "      <td>1</td>\n",
       "      <td>1</td>\n",
       "      <td>0</td>\n",
       "      <td>0</td>\n",
       "      <td>1</td>\n",
       "    </tr>\n",
       "  </tbody>\n",
       "</table>\n",
       "</div>"
      ],
      "text/plain": [
       "                                             mention  \\\n",
       "0   alberto fernandez, ya en diciembre del 17, se...   \n",
       "1   concretamente, con sustento en todas las expl...   \n",
       "2    suscribite a el destape  los legisladores pr...   \n",
       "3   de esa forma, amplio la posibilidad de recibi...   \n",
       "4      lograron de puno y letra la adhesion de macri   \n",
       "\n",
       "                                                 url  RC1  RC2  RC3  \\\n",
       "0  https://www.perfil.com/noticias/periodismopuro...    0    1    1   \n",
       "1  https://www.infobae.com/politica/2019/04/01/nu...    0    0    0   \n",
       "2  https://www.eldestapeweb.com/nota/elecciones-2...    1    1    1   \n",
       "3  https://www.perfil.com/noticias/politica/mauri...    1   -1   -1   \n",
       "4  https://www.cronista.com/economia-politica/Mac...    1    1    0   \n",
       "\n",
       "   Sentiment predicted  Sentiment expected  \n",
       "0                    1                   1  \n",
       "1                    0                   0  \n",
       "2                    1                   1  \n",
       "3                    0                   0  \n",
       "4                    0                   1  "
      ]
     },
     "execution_count": 33,
     "metadata": {},
     "output_type": "execute_result"
    }
   ],
   "source": [
    "data = pd.read_csv('pysentimiento_data_validation.csv')\n",
    "data.head()"
   ]
  },
  {
   "cell_type": "code",
   "execution_count": 34,
   "id": "53b97eba",
   "metadata": {},
   "outputs": [
    {
     "name": "stderr",
     "output_type": "stream",
     "text": [
      "/home/spinto/Proyectos/general_env/lib/python3.8/site-packages/huggingface_hub/file_download.py:1132: FutureWarning: `resume_download` is deprecated and will be removed in version 1.0.0. Downloads always resume when possible. If you want to force a new download, use `force_download=True`.\n",
      "  warnings.warn(\n"
     ]
    }
   ],
   "source": [
    "# Irony analyzer\n",
    "analyzer = create_analyzer(task=\"irony\", lang=\"es\")"
   ]
  },
  {
   "cell_type": "code",
   "execution_count": 35,
   "id": "0ef5c346",
   "metadata": {},
   "outputs": [],
   "source": [
    "# Irony classification\n",
    "classification = data.mention.apply(lambda x: analyzer.predict(x))\n",
    "\n",
    "data['irony_classification'] = [classification.to_list()[i].output for i in range(classification.shape[0])]\n",
    "data['irony_probability'] = [classification.to_list()[i].probas['ironic'] for i in range(classification.shape[0])]"
   ]
  },
  {
   "cell_type": "code",
   "execution_count": 36,
   "id": "b068ccb3",
   "metadata": {},
   "outputs": [
    {
     "data": {
      "text/html": [
       "<div>\n",
       "<style scoped>\n",
       "    .dataframe tbody tr th:only-of-type {\n",
       "        vertical-align: middle;\n",
       "    }\n",
       "\n",
       "    .dataframe tbody tr th {\n",
       "        vertical-align: top;\n",
       "    }\n",
       "\n",
       "    .dataframe thead th {\n",
       "        text-align: right;\n",
       "    }\n",
       "</style>\n",
       "<table border=\"1\" class=\"dataframe\">\n",
       "  <thead>\n",
       "    <tr style=\"text-align: right;\">\n",
       "      <th></th>\n",
       "      <th>mention</th>\n",
       "      <th>url</th>\n",
       "      <th>RC1</th>\n",
       "      <th>RC2</th>\n",
       "      <th>RC3</th>\n",
       "      <th>Sentiment predicted</th>\n",
       "      <th>Sentiment expected</th>\n",
       "      <th>irony_classification</th>\n",
       "      <th>irony_probability</th>\n",
       "    </tr>\n",
       "  </thead>\n",
       "  <tbody>\n",
       "    <tr>\n",
       "      <th>0</th>\n",
       "      <td>alberto fernandez, ya en diciembre del 17, se...</td>\n",
       "      <td>https://www.perfil.com/noticias/periodismopuro...</td>\n",
       "      <td>0</td>\n",
       "      <td>1</td>\n",
       "      <td>1</td>\n",
       "      <td>1</td>\n",
       "      <td>1</td>\n",
       "      <td>not ironic</td>\n",
       "      <td>0.018702</td>\n",
       "    </tr>\n",
       "    <tr>\n",
       "      <th>1</th>\n",
       "      <td>concretamente, con sustento en todas las expl...</td>\n",
       "      <td>https://www.infobae.com/politica/2019/04/01/nu...</td>\n",
       "      <td>0</td>\n",
       "      <td>0</td>\n",
       "      <td>0</td>\n",
       "      <td>0</td>\n",
       "      <td>0</td>\n",
       "      <td>not ironic</td>\n",
       "      <td>0.000589</td>\n",
       "    </tr>\n",
       "    <tr>\n",
       "      <th>2</th>\n",
       "      <td>suscribite a el destape  los legisladores pr...</td>\n",
       "      <td>https://www.eldestapeweb.com/nota/elecciones-2...</td>\n",
       "      <td>1</td>\n",
       "      <td>1</td>\n",
       "      <td>1</td>\n",
       "      <td>1</td>\n",
       "      <td>1</td>\n",
       "      <td>not ironic</td>\n",
       "      <td>0.000693</td>\n",
       "    </tr>\n",
       "    <tr>\n",
       "      <th>3</th>\n",
       "      <td>de esa forma, amplio la posibilidad de recibi...</td>\n",
       "      <td>https://www.perfil.com/noticias/politica/mauri...</td>\n",
       "      <td>1</td>\n",
       "      <td>-1</td>\n",
       "      <td>-1</td>\n",
       "      <td>0</td>\n",
       "      <td>0</td>\n",
       "      <td>not ironic</td>\n",
       "      <td>0.002432</td>\n",
       "    </tr>\n",
       "    <tr>\n",
       "      <th>4</th>\n",
       "      <td>lograron de puno y letra la adhesion de macri</td>\n",
       "      <td>https://www.cronista.com/economia-politica/Mac...</td>\n",
       "      <td>1</td>\n",
       "      <td>1</td>\n",
       "      <td>0</td>\n",
       "      <td>0</td>\n",
       "      <td>1</td>\n",
       "      <td>not ironic</td>\n",
       "      <td>0.028098</td>\n",
       "    </tr>\n",
       "  </tbody>\n",
       "</table>\n",
       "</div>"
      ],
      "text/plain": [
       "                                             mention  \\\n",
       "0   alberto fernandez, ya en diciembre del 17, se...   \n",
       "1   concretamente, con sustento en todas las expl...   \n",
       "2    suscribite a el destape  los legisladores pr...   \n",
       "3   de esa forma, amplio la posibilidad de recibi...   \n",
       "4      lograron de puno y letra la adhesion de macri   \n",
       "\n",
       "                                                 url  RC1  RC2  RC3  \\\n",
       "0  https://www.perfil.com/noticias/periodismopuro...    0    1    1   \n",
       "1  https://www.infobae.com/politica/2019/04/01/nu...    0    0    0   \n",
       "2  https://www.eldestapeweb.com/nota/elecciones-2...    1    1    1   \n",
       "3  https://www.perfil.com/noticias/politica/mauri...    1   -1   -1   \n",
       "4  https://www.cronista.com/economia-politica/Mac...    1    1    0   \n",
       "\n",
       "   Sentiment predicted  Sentiment expected irony_classification  \\\n",
       "0                    1                   1           not ironic   \n",
       "1                    0                   0           not ironic   \n",
       "2                    1                   1           not ironic   \n",
       "3                    0                   0           not ironic   \n",
       "4                    0                   1           not ironic   \n",
       "\n",
       "   irony_probability  \n",
       "0           0.018702  \n",
       "1           0.000589  \n",
       "2           0.000693  \n",
       "3           0.002432  \n",
       "4           0.028098  "
      ]
     },
     "execution_count": 36,
     "metadata": {},
     "output_type": "execute_result"
    }
   ],
   "source": [
    "data.head(n = 5)"
   ]
  },
  {
   "cell_type": "code",
   "execution_count": 37,
   "id": "55c3ae8d",
   "metadata": {},
   "outputs": [
    {
     "data": {
      "image/png": "[encoded data removed]",
      "text/plain": [
       "<Figure size 1000x600 with 1 Axes>"
      ]
     },
     "metadata": {},
     "output_type": "display_data"
    }
   ],
   "source": [
    "plt.figure(dpi = 200, figsize = (5,3))\n",
    "\n",
    "plt.hist(data['irony_probability'].to_list(), bins = np.arange(0.00, 1.01, 0.05))\n",
    "plt.xlim([0.00, 1.00])\n",
    "plt.xlabel('Probability of being an ironic mention', size = 10)\n",
    "plt.ylabel('Number of mentions', size = 10)\n",
    "plt.show()"
   ]
  }
 ],
 "metadata": {
  "kernelspec": {
   "display_name": "Python 3 (ipykernel)",
   "language": "python",
   "name": "python3"
  },
  "language_info": {
   "codemirror_mode": {
    "name": "ipython",
    "version": 3
   },
   "file_extension": ".py",
   "mimetype": "text/x-python",
   "name": "python",
   "nbconvert_exporter": "python",
   "pygments_lexer": "ipython3",
   "version": "3.8.10"
  }
 },
 "nbformat": 4,
 "nbformat_minor": 5
}
