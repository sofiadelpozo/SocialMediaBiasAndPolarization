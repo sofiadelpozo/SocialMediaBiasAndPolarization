{
 "cells": [
  {
   "cell_type": "code",
   "execution_count": 1,
   "id": "c966e00e",
   "metadata": {},
   "outputs": [],
   "source": [
    "import pandas as pd \n",
    "import numpy as np\n",
    "from sklearn.metrics import confusion_matrix\n",
    "import matplotlib.pyplot as plt \n",
    "from sklearn.metrics import accuracy_score, f1_score"
   ]
  },
  {
   "cell_type": "markdown",
   "id": "db85b4e4",
   "metadata": {},
   "source": [
    "### Pysentimento validation\n",
    "\n",
    "The following dataset provides a validation of the [pysentimiento algorithm](https://huggingface.co/pysentimiento/robertuito-sentiment-analysis). The rows of the dataset are the following:\n",
    "- mention: sentence with a mention to a given candidate.\n",
    "- url: url from where the mention comes from.\n",
    "- RC1, RC2, RC3: researchers classification of the mention. 1 means a positive mention, 0 a neutral mention, and -1 a negative mention.\n",
    "- Sentiment expected: the expected sentiment calculated by majority rule of the researches classification. If a mention was independently classified as 1, 0 and -1, we considered it as neutral (0).\n",
    "- Sentiment predicted: sentiment predicted by the pysentimiento algorithm."
   ]
  },
  {
   "cell_type": "code",
   "execution_count": 2,
   "id": "ed57dc11",
   "metadata": {},
   "outputs": [
    {
     "data": {
      "text/html": [
       "<div>\n",
       "<style scoped>\n",
       "    .dataframe tbody tr th:only-of-type {\n",
       "        vertical-align: middle;\n",
       "    }\n",
       "\n",
       "    .dataframe tbody tr th {\n",
       "        vertical-align: top;\n",
       "    }\n",
       "\n",
       "    .dataframe thead th {\n",
       "        text-align: right;\n",
       "    }\n",
       "</style>\n",
       "<table border=\"1\" class=\"dataframe\">\n",
       "  <thead>\n",
       "    <tr style=\"text-align: right;\">\n",
       "      <th></th>\n",
       "      <th>mention</th>\n",
       "      <th>url</th>\n",
       "      <th>RC1</th>\n",
       "      <th>RC2</th>\n",
       "      <th>RC3</th>\n",
       "      <th>Sentiment predicted</th>\n",
       "      <th>Sentiment expected</th>\n",
       "    </tr>\n",
       "  </thead>\n",
       "  <tbody>\n",
       "    <tr>\n",
       "      <th>0</th>\n",
       "      <td>alberto fernandez, ya en diciembre del 17, se...</td>\n",
       "      <td>https://www.perfil.com/noticias/periodismopuro...</td>\n",
       "      <td>0</td>\n",
       "      <td>1</td>\n",
       "      <td>1</td>\n",
       "      <td>1</td>\n",
       "      <td>1</td>\n",
       "    </tr>\n",
       "    <tr>\n",
       "      <th>1</th>\n",
       "      <td>concretamente, con sustento en todas las expl...</td>\n",
       "      <td>https://www.infobae.com/politica/2019/04/01/nu...</td>\n",
       "      <td>0</td>\n",
       "      <td>0</td>\n",
       "      <td>0</td>\n",
       "      <td>0</td>\n",
       "      <td>0</td>\n",
       "    </tr>\n",
       "    <tr>\n",
       "      <th>2</th>\n",
       "      <td>suscribite a el destape  los legisladores pr...</td>\n",
       "      <td>https://www.eldestapeweb.com/nota/elecciones-2...</td>\n",
       "      <td>1</td>\n",
       "      <td>1</td>\n",
       "      <td>1</td>\n",
       "      <td>1</td>\n",
       "      <td>1</td>\n",
       "    </tr>\n",
       "    <tr>\n",
       "      <th>3</th>\n",
       "      <td>de esa forma, amplio la posibilidad de recibi...</td>\n",
       "      <td>https://www.perfil.com/noticias/politica/mauri...</td>\n",
       "      <td>1</td>\n",
       "      <td>-1</td>\n",
       "      <td>-1</td>\n",
       "      <td>0</td>\n",
       "      <td>0</td>\n",
       "    </tr>\n",
       "    <tr>\n",
       "      <th>4</th>\n",
       "      <td>lograron de puno y letra la adhesion de macri</td>\n",
       "      <td>https://www.cronista.com/economia-politica/Mac...</td>\n",
       "      <td>1</td>\n",
       "      <td>1</td>\n",
       "      <td>0</td>\n",
       "      <td>0</td>\n",
       "      <td>1</td>\n",
       "    </tr>\n",
       "  </tbody>\n",
       "</table>\n",
       "</div>"
      ],
      "text/plain": [
       "                                             mention  \\\n",
       "0   alberto fernandez, ya en diciembre del 17, se...   \n",
       "1   concretamente, con sustento en todas las expl...   \n",
       "2    suscribite a el destape  los legisladores pr...   \n",
       "3   de esa forma, amplio la posibilidad de recibi...   \n",
       "4      lograron de puno y letra la adhesion de macri   \n",
       "\n",
       "                                                 url  RC1  RC2  RC3  \\\n",
       "0  https://www.perfil.com/noticias/periodismopuro...    0    1    1   \n",
       "1  https://www.infobae.com/politica/2019/04/01/nu...    0    0    0   \n",
       "2  https://www.eldestapeweb.com/nota/elecciones-2...    1    1    1   \n",
       "3  https://www.perfil.com/noticias/politica/mauri...    1   -1   -1   \n",
       "4  https://www.cronista.com/economia-politica/Mac...    1    1    0   \n",
       "\n",
       "   Sentiment predicted  Sentiment expected  \n",
       "0                    1                   1  \n",
       "1                    0                   0  \n",
       "2                    1                   1  \n",
       "3                    0                   0  \n",
       "4                    0                   1  "
      ]
     },
     "execution_count": 2,
     "metadata": {},
     "output_type": "execute_result"
    }
   ],
   "source": [
    "data = pd.read_csv('pysentimiento_data_validation.csv')\n",
    "data.head(n = 5)"
   ]
  },
  {
   "cell_type": "markdown",
   "id": "1a86d308",
   "metadata": {},
   "source": [
    "#### Confusion matrix "
   ]
  },
  {
   "cell_type": "code",
   "execution_count": 3,
   "id": "f3955c33",
   "metadata": {},
   "outputs": [],
   "source": [
    "cm = confusion_matrix(y_true=data['Sentiment expected'], y_pred=data['Sentiment predicted'])"
   ]
  },
  {
   "cell_type": "code",
   "execution_count": 4,
   "id": "2dd457df",
   "metadata": {},
   "outputs": [
    {
     "data": {
      "image/png": "[encoded data removed]",
      "text/plain": [
       "<Figure size 1000x600 with 2 Axes>"
      ]
     },
     "metadata": {},
     "output_type": "display_data"
    }
   ],
   "source": [
    "plt.figure(figsize = (5,3), dpi = 200)\n",
    "\n",
    "plt.imshow(cm, cmap = 'Reds', vmin = 0)\n",
    "for i in range(cm.shape[0]):\n",
    "    for j in range(cm.shape[1]):\n",
    "        plt.text(i, j, s = cm.T[i,j], size = 8)\n",
    "\n",
    "plt.xticks(range(3), ['Negative', 'Neutral', 'Positive'], size = 8)\n",
    "plt.yticks(range(3), ['Negative', 'Neutral', 'Positive'], size = 8)\n",
    "        \n",
    "plt.ylabel('Ground truth')\n",
    "plt.xlabel('Label predicted')\n",
    "\n",
    "plt.colorbar()\n",
    "plt.tight_layout()\n",
    "plt.savefig('PySentimiento_confusion_matrix.pdf')\n",
    "plt.show()"
   ]
  },
  {
   "cell_type": "markdown",
   "id": "656cc196",
   "metadata": {},
   "source": [
    "#### Metrics"
   ]
  },
  {
   "cell_type": "code",
   "execution_count": 5,
   "id": "f84a9ac0",
   "metadata": {},
   "outputs": [
    {
     "name": "stdout",
     "output_type": "stream",
     "text": [
      "Accuracy:  0.6416666666666667\n"
     ]
    }
   ],
   "source": [
    "print('Accuracy: ' , accuracy_score(data['Sentiment expected'], data['Sentiment predicted']))"
   ]
  },
  {
   "cell_type": "code",
   "execution_count": 6,
   "id": "4c300102",
   "metadata": {},
   "outputs": [
    {
     "name": "stdout",
     "output_type": "stream",
     "text": [
      "F1 score:  0.6424821693638898\n"
     ]
    }
   ],
   "source": [
    "print('F1 score: ', f1_score(data['Sentiment expected'], data['Sentiment predicted'], average='macro'))"
   ]
  },
  {
   "cell_type": "markdown",
   "id": "cadd2388",
   "metadata": {},
   "source": [
    "F1 score fluctuations:"
   ]
  },
  {
   "cell_type": "code",
   "execution_count": 7,
   "id": "c8820e56",
   "metadata": {},
   "outputs": [
    {
     "name": "stdout",
     "output_type": "stream",
     "text": [
      "F1-score 90\\% CI:  [0.57350046 0.70955251]\n"
     ]
    }
   ],
   "source": [
    "iterations = []\n",
    "for i in range(1000):\n",
    "    y_true, y_pred = data.sample(n = data.shape[0], replace = True)[['Sentiment predicted', 'Sentiment expected']].to_numpy().T\n",
    "    iterations.append(f1_score(y_true, y_pred, average='macro'))\n",
    "print('F1-score 90\\% CI: ', np.quantile(iterations, q = [0.05, 0.95]))"
   ]
  }
 ],
 "metadata": {
  "kernelspec": {
   "display_name": "Python 3 (ipykernel)",
   "language": "python",
   "name": "python3"
  },
  "language_info": {
   "codemirror_mode": {
    "name": "ipython",
    "version": 3
   },
   "file_extension": ".py",
   "mimetype": "text/x-python",
   "name": "python",
   "nbconvert_exporter": "python",
   "pygments_lexer": "ipython3",
   "version": "3.8.10"
  }
 },
 "nbformat": 4,
 "nbformat_minor": 5
}
